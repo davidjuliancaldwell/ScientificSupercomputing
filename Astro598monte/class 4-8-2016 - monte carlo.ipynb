{
 "cells": [
  {
   "cell_type": "markdown",
   "metadata": {},
   "source": [
    "# These are the lecture notes and code from the astro 598, monte carlo clas, on 4/8/2016"
   ]
  },
  {
   "cell_type": "markdown",
   "metadata": {},
   "source": [
    " Below is numpy implementation of random seed \n",
    "You cant reproduce the below cell"
   ]
  },
  {
   "cell_type": "code",
   "execution_count": 3,
   "metadata": {
    "collapsed": false,
    "scrolled": false
   },
   "outputs": [
    {
     "name": "stdout",
     "output_type": "stream",
     "text": [
      "422\n",
      "643\n",
      "136\n",
      "674\n",
      "901\n",
      "96\n",
      "23\n",
      "563\n",
      "819\n",
      "349\n"
     ]
    }
   ],
   "source": [
    "import numpy.random\n",
    "import matplotlib.pyplot as plt\n",
    "import numpy as np\n",
    "import math\n",
    "import time\n",
    "\n",
    "# can't reproduce this \n",
    "for i in range(10):\n",
    "    x = numpy.random.randint(1,1000)\n",
    "    print x\n",
    "    \n",
    "    "
   ]
  },
  {
   "cell_type": "markdown",
   "metadata": {},
   "source": [
    "Below you pick a random seed, but it will be constant \n",
    "if you are doing thousands of simulations, hard coding the random as below would be slow\n",
    "\n",
    "MUST RECORD SEED "
   ]
  },
  {
   "cell_type": "code",
   "execution_count": 5,
   "metadata": {
    "collapsed": false,
    "scrolled": true
   },
   "outputs": [
    {
     "name": "stdout",
     "output_type": "stream",
     "text": [
      "511\n",
      "366\n",
      "383\n",
      "323\n",
      "989\n",
      "99\n",
      "743\n",
      "18\n",
      "596\n",
      "107\n"
     ]
    }
   ],
   "source": [
    "seed = 123\n",
    "numpy.random.seed(123)\n",
    "\n",
    "for i in range(10):\n",
    "    x = numpy.random.randint(1,1000)\n",
    "    print x\n",
    "    \n",
    "    "
   ]
  },
  {
   "cell_type": "markdown",
   "metadata": {},
   "source": [
    "Numpy uses Mersenne twister\n",
    "Below, the time.time could be bad if you have to simulate two things really close together \n",
    "\n",
    "check_state useful for when restarting starting \n",
    "\n",
    "only way to truly be random, is to analyze radioactive decay or something\n",
    "\n",
    "mersenne twister is pseudo number random generator \n",
    "\n",
    "you need to make sure things are behaving as you "
   ]
  },
  {
   "cell_type": "code",
   "execution_count": 9,
   "metadata": {
    "collapsed": false
   },
   "outputs": [
    {
     "name": "stdout",
     "output_type": "stream",
     "text": [
      "1460136730\n",
      "818\n",
      "201\n",
      "539\n",
      "163\n",
      "935\n",
      "31\n",
      "850\n",
      "807\n",
      "360\n",
      "606\n"
     ]
    }
   ],
   "source": [
    "# number of seconds since january...1970? will overflow in 2038 \n",
    "\n",
    "\n",
    "# record the seed \n",
    "\n",
    "seed = int(time.time())\n",
    "\n",
    "print seed\n",
    "numpy.random.seed(seed)\n",
    "# can't reproduce this \n",
    "for i in range(10):\n",
    "    x = numpy.random.randint(1,1000)\n",
    "    print x\n",
    "    \n",
    "    "
   ]
  },
  {
   "cell_type": "markdown",
   "metadata": {},
   "source": [
    "for next homework, unit bin size. if not unit, have to scale for unit width, etc "
   ]
  },
  {
   "cell_type": "code",
   "execution_count": null,
   "metadata": {
    "collapsed": true
   },
   "outputs": [],
   "source": [
    "s = np.random.normal(mu,sigma,TOTAL_NUM_POINTS)\n",
    "\n",
    "# make histogram "
   ]
  },
  {
   "cell_type": "markdown",
   "metadata": {},
   "source": [
    "Golden rule of monte carlo? \n",
    "\n",
    "usually for integration, we know limits\n",
    "here, we know left hand side, what is the right limit?\n",
    "can handle any arbitrary distribution\n",
    "x0 will be distributed according to P(z) \n",
    "\n",
    "can make distribution for yourself?\n",
    "computationally expensive \n",
    "\n",
    "do some analytic examples in class "
   ]
  },
  {
   "cell_type": "code",
   "execution_count": 1,
   "metadata": {
    "collapsed": false
   },
   "outputs": [],
   "source": [
    "import math\n",
    "import numpy as np\n",
    "import matplotlib.pyplot as plt\n"
   ]
  },
  {
   "cell_type": "code",
   "execution_count": 29,
   "metadata": {
    "collapsed": true
   },
   "outputs": [],
   "source": [
    "TOTAL_NUM_POINTS = 10**6\n",
    "a = np.random.poisson(10,TOTAL_NUM_POINTS)\n",
    "binwidth = 1\n",
    "count, bins, ignored = plt.hist(a,bins=np.arange(0, max(a) + binwidth, binwidth))\n",
    "#plt.figure(1)\n",
    "plt.show()"
   ]
  },
  {
   "cell_type": "code",
   "execution_count": null,
   "metadata": {
    "collapsed": false
   },
   "outputs": [],
   "source": [
    "plt.figure(2)\n",
    "plt.plot(TOTAL_NUM_POINTS*(a))\n",
    "plt.show()"
   ]
  },
  {
   "cell_type": "code",
   "execution_count": 16,
   "metadata": {
    "collapsed": false
   },
   "outputs": [
    {
     "data": {
      "text/plain": [
       "[<matplotlib.lines.Line2D at 0xac6ab70>]"
      ]
     },
     "execution_count": 16,
     "metadata": {},
     "output_type": "execute_result"
    }
   ],
   "source": [
    "TOTAL_NUM_POINTS = 100\n",
    "plt.figure(3)\n",
    "b = np.random.poisson(10,TOTAL_NUM_POINTS)\n",
    "binwidth = 1\n",
    "count, bins, ignored = plt.hist(b,bins=np.arange(0, max(b) + binwidth, binwidth))\n",
    "plt.show()\n",
    "\n",
    "plt.figure(4)\n",
    "plt.plot(TOTAL_NUM_POINTS*(b))"
   ]
  },
  {
   "cell_type": "code",
   "execution_count": null,
   "metadata": {
    "collapsed": true
   },
   "outputs": [],
   "source": [
    "TOTAL_NUM_POINTS = 10**6\n",
    "a = np.random.normal(0,10,TOTAL_NUM_POINTS)\n",
    "count, bins, ignored = plt.hist(a)\n",
    "figure(1)\n",
    "plt.show()\n",
    "\n",
    "figure(2)\n",
    "plot(TOTAL_NUM_POINTS*(a))"
   ]
  },
  {
   "cell_type": "code",
   "execution_count": null,
   "metadata": {
    "collapsed": true,
    "scrolled": true
   },
   "outputs": [],
   "source": [
    "TOTAL_NUM_POINTS = 100\n",
    "b = np.random.normal(0,10,TOTAL_NUM_POINTS)\n",
    "count, bins, ignored = plt.hist(b)\n",
    "figure(3)\n",
    "plt.show()\n",
    "\n",
    "figure(4)\n",
    "plot(TOTAL_NUM_POINTS*(b))"
   ]
  }
 ],
 "metadata": {
  "kernelspec": {
   "display_name": "Python 3",
   "language": "python",
   "name": "python3"
  },
  "language_info": {
   "codemirror_mode": {
    "name": "ipython",
    "version": 3
   },
   "file_extension": ".py",
   "mimetype": "text/x-python",
   "name": "python",
   "nbconvert_exporter": "python",
   "pygments_lexer": "ipython3",
   "version": "3.5.1"
  }
 },
 "nbformat": 4,
 "nbformat_minor": 0
}
