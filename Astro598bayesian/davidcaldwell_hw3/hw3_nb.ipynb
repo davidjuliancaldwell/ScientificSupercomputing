{
 "cells": [
  {
   "cell_type": "code",
   "execution_count": 1,
   "metadata": {
    "collapsed": true
   },
   "outputs": [],
   "source": [
    "import numpy as np\n",
    "import random as random\n",
    "import math\n",
    "import re\n",
    "import sys\n",
    "import matplotlib.pyplot as plt\n",
    "import seaborn as sns\n",
    "%matplotlib inline\n"
   ]
  },
  {
   "cell_type": "code",
   "execution_count": 50,
   "metadata": {
    "collapsed": true
   },
   "outputs": [],
   "source": [
    "# part a\n",
    "\n",
    "def findMAPestimate(file):\n",
    "    theta,posterior = np.loadtxt(file, delimiter=\",\", unpack=False)\n",
    "    ind_i = np.argmax(posterior)\n",
    "    theta_max = theta[ind_i]\n",
    "    print('When kposter(theta,y) is a maximum, theta = {}'.format(theta_max))\n",
    "    return theta_max"
   ]
  },
  {
   "cell_type": "code",
   "execution_count": 51,
   "metadata": {},
   "outputs": [
    {
     "name": "stdout",
     "output_type": "stream",
     "text": [
      "When kposter(theta,y) is a maximum, theta = 0.131313131313\n"
     ]
    },
    {
     "data": {
      "text/plain": [
       "0.13131313131299999"
      ]
     },
     "execution_count": 51,
     "metadata": {},
     "output_type": "execute_result"
    }
   ],
   "source": [
    "findMAPestimate('kpost.out')"
   ]
  },
  {
   "cell_type": "code",
   "execution_count": 54,
   "metadata": {},
   "outputs": [
    {
     "data": {
      "image/png": "[encoded data removed]",
      "text/plain": [
       "<matplotlib.figure.Figure at 0x21ef777b470>"
      ]
     },
     "metadata": {},
     "output_type": "display_data"
    }
   ],
   "source": [
    "theta,posterior = np.loadtxt('kpost.out', delimiter=\",\", unpack=False)\n",
    "posterior\n",
    "\n",
    "\n",
    "total_a = np.trapz(posterior,x=theta)\n",
    "    \n",
    "# build up trapz in theta\n",
    "integrals = np.array([np.trapz(posterior[0:i]/total_a,x=theta[0:i]) for i in range(len(posterior))])\n",
    "integrals_theta_1 = abs(integrals - (2.5/100))\n",
    "theta_1 = theta[np.argmin(integrals_theta_1)]\n",
    "\n",
    "integrals_theta_2 = abs(integrals - (97.5/100))\n",
    "theta_2 = theta[np.argmin(integrals_theta_2)]\n",
    "\n",
    "\n",
    "plt.figure()\n",
    "plt.plot(theta,posterior)\n",
    "plt.axvline(theta_1,color='r')\n",
    "plt.axvline(theta_2,color='r')\n",
    "\n",
    "mean_theta = np.mean(theta)\n",
    "std_theta = np.std(theta)\n"
   ]
  },
  {
   "cell_type": "code",
   "execution_count": 49,
   "metadata": {},
   "outputs": [
    {
     "ename": "IndexError",
     "evalue": "invalid index to scalar variable.",
     "output_type": "error",
     "traceback": [
      "\u001b[1;31m---------------------------------------------------------------------------\u001b[0m",
      "\u001b[1;31mIndexError\u001b[0m                                Traceback (most recent call last)",
      "\u001b[1;32m<ipython-input-49-0cb8508c5aef>\u001b[0m in \u001b[0;36m<module>\u001b[1;34m()\u001b[0m\n\u001b[0;32m     16\u001b[0m \u001b[1;33m\u001b[0m\u001b[0m\n\u001b[0;32m     17\u001b[0m \u001b[1;33m\u001b[0m\u001b[0m\n\u001b[1;32m---> 18\u001b[1;33m \u001b[0mfindCredibleInterval\u001b[0m\u001b[1;33m(\u001b[0m\u001b[1;34m'kpost.out'\u001b[0m\u001b[1;33m)\u001b[0m\u001b[1;33m\u001b[0m\u001b[0m\n\u001b[0m",
      "\u001b[1;32m<ipython-input-49-0cb8508c5aef>\u001b[0m in \u001b[0;36mfindCredibleInterval\u001b[1;34m(file)\u001b[0m\n\u001b[0;32m     10\u001b[0m     \u001b[1;31m# find closest value\u001b[0m\u001b[1;33m\u001b[0m\u001b[1;33m\u001b[0m\u001b[0m\n\u001b[0;32m     11\u001b[0m     \u001b[0mintegrals_theta_1\u001b[0m \u001b[1;33m=\u001b[0m \u001b[0mabs\u001b[0m\u001b[1;33m(\u001b[0m\u001b[0mintegrals\u001b[0m \u001b[1;33m-\u001b[0m \u001b[1;33m(\u001b[0m\u001b[1;36m2.5\u001b[0m\u001b[1;33m/\u001b[0m\u001b[1;36m100\u001b[0m\u001b[1;33m)\u001b[0m\u001b[1;33m)\u001b[0m\u001b[1;33m\u001b[0m\u001b[0m\n\u001b[1;32m---> 12\u001b[1;33m     \u001b[0mtheta_1\u001b[0m \u001b[1;33m=\u001b[0m \u001b[0mtheta\u001b[0m\u001b[1;33m[\u001b[0m\u001b[0mnp\u001b[0m\u001b[1;33m.\u001b[0m\u001b[0margmin\u001b[0m\u001b[1;33m(\u001b[0m\u001b[0mintegrals_theta_1\u001b[0m\u001b[1;33m)\u001b[0m\u001b[1;33m]\u001b[0m\u001b[1;33m[\u001b[0m\u001b[1;36m0\u001b[0m\u001b[1;33m]\u001b[0m\u001b[1;33m\u001b[0m\u001b[0m\n\u001b[0m\u001b[0;32m     13\u001b[0m \u001b[1;33m\u001b[0m\u001b[0m\n\u001b[0;32m     14\u001b[0m     \u001b[0mintegrals_theta_2\u001b[0m \u001b[1;33m=\u001b[0m \u001b[0mabs\u001b[0m\u001b[1;33m(\u001b[0m\u001b[0mintegrals\u001b[0m \u001b[1;33m-\u001b[0m \u001b[1;33m(\u001b[0m\u001b[1;36m97.5\u001b[0m\u001b[1;33m/\u001b[0m\u001b[1;36m100\u001b[0m\u001b[1;33m)\u001b[0m\u001b[1;33m)\u001b[0m\u001b[1;33m\u001b[0m\u001b[0m\n",
      "\u001b[1;31mIndexError\u001b[0m: invalid index to scalar variable."
     ]
    }
   ],
   "source": [
    "# part c\n",
    "\n",
    "def findCredibleInterval(file):\n",
    "    theta,posterior = np.loadtxt(file, delimiter=\",\", unpack=False)\n",
    "    total_a = np.trapz(posterior,x=theta)\n",
    "    \n",
    "    # build up trapz in theta\n",
    "    integrals = np.array([np.trapz(posterior[0:i]/total_a,x=theta[0:i]) for i in range(len(posterior))])\n",
    "    \n",
    "    # find closest value for 2.5%\n",
    "    integrals_theta_1 = abs(integrals - (2.5/100))\n",
    "    theta_1 = theta[np.argmin(integrals_theta_1)]\n",
    "\n",
    "    # find closest value for 97.5% \n",
    "    integrals_theta_2 = abs(integrals - (97.5/100))\n",
    "    theta_2 = theta[np.argmin(integrals_theta_2)]\n",
    "\n",
    "    \n",
    "findCredibleInterval('kpost.out')\n"
   ]
  },
  {
   "cell_type": "code",
   "execution_count": 58,
   "metadata": {},
   "outputs": [],
   "source": [
    "# part d \n",
    "\n",
    "def findMeanEstimate(file):\n",
    "    theta,posterior = np.loadtxt(file, delimiter=\",\", unpack=False)\n",
    "    \n",
    "    mean_theta = np.mean(theta)\n",
    "    std_theta = np.std(theta)\n",
    "    print('The mean of theta is {}, the standard deviation of theta is {}'.format(mean_theta,std_theta))\n",
    "    \n"
   ]
  },
  {
   "cell_type": "code",
   "execution_count": 59,
   "metadata": {},
   "outputs": [
    {
     "name": "stdout",
     "output_type": "stream",
     "text": [
      "The mean of theta is 0.500000000000005, the standard deviation of theta is 0.29157646512864027\n"
     ]
    }
   ],
   "source": [
    "findMeanEstimate('kpost.out')\n"
   ]
  },
  {
   "cell_type": "code",
   "execution_count": 9,
   "metadata": {
    "collapsed": true
   },
   "outputs": [],
   "source": [
    "%qtconsole"
   ]
  },
  {
   "cell_type": "code",
   "execution_count": null,
   "metadata": {
    "collapsed": true
   },
   "outputs": [],
   "source": []
  }
 ],
 "metadata": {
  "kernelspec": {
   "display_name": "Python 3",
   "language": "python",
   "name": "python3"
  },
  "language_info": {
   "codemirror_mode": {
    "name": "ipython",
    "version": 3
   },
   "file_extension": ".py",
   "mimetype": "text/x-python",
   "name": "python",
   "nbconvert_exporter": "python",
   "pygments_lexer": "ipython3",
   "version": "3.6.1"
  }
 },
 "nbformat": 4,
 "nbformat_minor": 2
}
