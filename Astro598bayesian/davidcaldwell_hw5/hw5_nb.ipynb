{
 "cells": [
  {
   "cell_type": "code",
   "execution_count": 33,
   "metadata": {},
   "outputs": [],
   "source": [
    "import numpy as np\n",
    "import random as random\n",
    "import math\n",
    "import re\n",
    "import sys\n",
    "import matplotlib.pyplot as plt\n",
    "import seaborn as sns\n",
    "from decimal import *\n",
    "\n",
    "\n",
    "#getcontext().traps = []\n",
    "#getcontext().flags = []\n",
    "\n",
    "setcontext(ExtendedContext)\n",
    "getcontext().rounding = 'ROUND_UP'\n",
    "#getcontext().prec = 100000\n",
    "getcontext().Emin = -999999999999999999\n",
    "getcontext().Emax = 99\n",
    "getcontext().rounding = ROUND_UP\n",
    "\n",
    "%matplotlib inline\n",
    "\n",
    "def generate_flips(N,theta):\n",
    "\n",
    "    gen_values = np.array([random.random() for i in range(N)])\n",
    "    output = (gen_values < theta)*1\n",
    "\n",
    "    return output\n",
    "\n",
    "def make_data_flips(N,theta):\n",
    "\n",
    "    samps = list((generate_flips(N,theta)))\n",
    "    output = ( \", \".join( str(e) for e in samps ) )\n",
    "    f = open('data5.out', 'w')\n",
    "    f.write(output)\n",
    "        \n",
    "def prior(theta):\n",
    "        \n",
    "    if (0.45<=theta and theta<=0.55):\n",
    "        p_theta = 9.1\n",
    "    elif (theta<0.45 or (0.55<theta and theta<=1)):\n",
    "        p_theta = 0.1\n",
    "    else:\n",
    "        p_theta = 0\n",
    "    \n",
    "    return p_theta\n",
    "\n",
    "def likelihood(y,theta):\n",
    "    z = Decimal(sum(y))\n",
    "    N = Decimal(len(y))\n",
    "    theta_dec = Decimal(theta)\n",
    "    likel = Decimal((theta_dec**z)*(Decimal(1)-theta_dec)**Decimal((N-z)))\n",
    "    #likel = (z*np.log(theta)) + ((N-z)*np.log(1-theta))\n",
    "    #likel = np.exp(likel)\n",
    "    return likel\n",
    "\n",
    "def kposterior(theta,y):\n",
    "    \n",
    "    likel = likelihood(y,theta)\n",
    "    prior_val = prior(theta)\n",
    "    \n",
    "    posterior = likel*prior_val\n",
    "    return posterior\n",
    "\n",
    "def makekposterior(file,num_read):\n",
    "    y_total = np.loadtxt(file, comments=\"#\", delimiter=\",\", unpack=False)\n",
    "    y = y_total[0:num_read]\n",
    "    theta = np.linspace(0,1,10000000)\n",
    "    prior_total = np.array([Decimal(prior(x)) for x in theta])\n",
    "    posterior_total = np.array([likelihood(y,x) for x in theta])\n",
    "    posterior = posterior_total*prior_total\n",
    "    #posterior = likelihood(y,theta)*prior_total\n",
    "    f_out = open('kpost.out', 'w')\n",
    "    theta_out = ( \", \".join( str(e) for e in theta ) )\n",
    "    posterior_out = ( \", \".join( str(e) for e in posterior ) )\n",
    "    f_out.write(theta_out)\n",
    "    f_out.write('\\n')\n",
    "    f_out.write(posterior_out)\n",
    "\n",
    "def plotkposterior(file,num_read):\n",
    "    theta,posterior = np.loadtxt(file, delimiter=\",\", unpack=False)\n",
    "    plt.figure()\n",
    "    plt.plot(theta,posterior)\n",
    "    plt.xlabel('Theta')\n",
    "    plt.ylabel('Posterior probability')\n",
    "    plt.title('Posterior probability for coin flip for M = {} points'.format(num_read))"
   ]
  },
  {
   "cell_type": "code",
   "execution_count": 34,
   "metadata": {
    "collapsed": true
   },
   "outputs": [],
   "source": [
    "N = 10000\n",
    "theta = 0.1\n",
    "make_data_flips(N,theta)"
   ]
  },
  {
   "cell_type": "code",
   "execution_count": null,
   "metadata": {},
   "outputs": [],
   "source": [
    "nums = [3000]\n",
    "#nums = [5,10,100]\n",
    "\n",
    "for ind in nums:\n",
    "    makekposterior('data5.out',ind)\n",
    "    plotkposterior('kpost.out',ind)"
   ]
  },
  {
   "cell_type": "code",
   "execution_count": null,
   "metadata": {},
   "outputs": [],
   "source": [
    "getcontext()"
   ]
  },
  {
   "cell_type": "code",
   "execution_count": null,
   "metadata": {
    "collapsed": true
   },
   "outputs": [],
   "source": []
  }
 ],
 "metadata": {
  "kernelspec": {
   "display_name": "Python 3",
   "language": "python",
   "name": "python3"
  },
  "language_info": {
   "codemirror_mode": {
    "name": "ipython",
    "version": 3
   },
   "file_extension": ".py",
   "mimetype": "text/x-python",
   "name": "python",
   "nbconvert_exporter": "python",
   "pygments_lexer": "ipython3",
   "version": "3.6.1"
  }
 },
 "nbformat": 4,
 "nbformat_minor": 2
}
